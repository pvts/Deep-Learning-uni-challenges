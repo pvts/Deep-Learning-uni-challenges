{
 "cells": [
  {
   "cell_type": "code",
   "execution_count": 1,
   "metadata": {
    "colab": {
     "base_uri": "https://localhost:8080/",
     "height": 179
    },
    "colab_type": "code",
    "id": "kfoUcWEVp2_E",
    "outputId": "41cf49ef-41fd-4e89-da76-2e2da1486b4f"
   },
   "outputs": [
    {
     "name": "stderr",
     "output_type": "stream",
     "text": [
      "Using TensorFlow backend.\n"
     ]
    }
   ],
   "source": [
    "#importing the necessary libraries\n",
    "import numpy as np\n",
    "import pandas as pd\n",
    "import matplotlib.pyplot as plt\n",
    "import tensorflow as tf\n",
    "from sklearn.model_selection import train_test_split\n",
    "from sklearn.preprocessing import LabelEncoder\n",
    "from sklearn.metrics import precision_score, recall_score, f1_score, classification_report\n",
    "from tensorflow.keras.layers import Dense, Conv1D, Flatten, Dropout, MaxPooling1D, \\\n",
    "BatchNormalization, SpatialDropout1D\n",
    "from tensorflow.keras.models import Sequential\n",
    "from tensorflow.keras.utils import to_categorical\n",
    "from tensorflow.keras.callbacks import EarlyStopping, ModelCheckpoint\n",
    "from imblearn.combine import SMOTETomek\n",
    "import warnings\n",
    "#Surpressing all deprecation and future warnings\n",
    "warnings.filterwarnings(\"ignore\", category=DeprecationWarning)\n",
    "warnings.filterwarnings(\"ignore\", category=FutureWarning)\n",
    "#Sets the global random tf seed\n",
    "tf.random.set_random_seed(42)"
   ]
  },
  {
   "cell_type": "code",
   "execution_count": null,
   "metadata": {
    "colab": {
     "base_uri": "https://localhost:8080/",
     "height": 131
    },
    "colab_type": "code",
    "id": "3Cn9D6KmVCv8",
    "outputId": "889f2fc1-e7d0-4864-c4fb-a7d165922d0e"
   },
   "outputs": [],
   "source": [
    "#mounting the drive to this notebook\n",
    "from google.colab import drive\n",
    "drive.mount('/content/drive', force_remount=True)"
   ]
  },
  {
   "cell_type": "code",
   "execution_count": 3,
   "metadata": {
    "colab": {},
    "colab_type": "code",
    "id": "Y9NjPM86XeMV"
   },
   "outputs": [],
   "source": [
    "#loading the dataset\n",
    "raw = np.load('/content/drive/My Drive/data/Data_Raw_signals.pkl', allow_pickle=True)"
   ]
  },
  {
   "cell_type": "code",
   "execution_count": 4,
   "metadata": {
    "colab": {},
    "colab_type": "code",
    "id": "Z9bdrbimlXiH"
   },
   "outputs": [],
   "source": [
    "#Splitting our features and targets\n",
    "feat = raw[0]\n",
    "targets = raw[1]"
   ]
  },
  {
   "cell_type": "code",
   "execution_count": 8,
   "metadata": {
    "colab": {
     "base_uri": "https://localhost:8080/",
     "height": 36
    },
    "colab_type": "code",
    "id": "dw1R5Tjklrqs",
    "outputId": "3d8281ca-eb76-4aa6-a3ab-43db639dcd43"
   },
   "outputs": [
    {
     "name": "stdout",
     "output_type": "stream",
     "text": [
      "0\n"
     ]
    }
   ],
   "source": [
    "#Checking for missing data in the dataset - no NAs\n",
    "print(np.isnan(feat).sum())"
   ]
  },
  {
   "cell_type": "code",
   "execution_count": 29,
   "metadata": {
    "colab": {
     "base_uri": "https://localhost:8080/",
     "height": 265
    },
    "colab_type": "code",
    "id": "GzORg2ROWjkI",
    "outputId": "3631eeed-b8e6-4720-afba-642a08f8d367"
   },
   "outputs": [
    {
     "data": {
      "image/png": "[encoded data removed]",
      "text/plain": [
       "<Figure size 432x288 with 1 Axes>"
      ]
     },
     "metadata": {
      "tags": []
     },
     "output_type": "display_data"
    }
   ],
   "source": [
    "#vizualizing the signals\n",
    "signal = feat.reshape(feat.shape[0], feat.shape[1] * feat.shape[2])\n",
    "plt.plot(signal, 'r')\n",
    "plt.show()"
   ]
  },
  {
   "cell_type": "code",
   "execution_count": 0,
   "metadata": {
    "colab": {},
    "colab_type": "code",
    "id": "9lq20mXyyfuT"
   },
   "outputs": [],
   "source": [
    "#Reshaping the features to convert them to 2D, to feed it into SMOETomek \n",
    "feat_X = np.reshape(feat, (feat.shape[0], feat.shape[1] * feat.shape[2]))"
   ]
  },
  {
   "cell_type": "code",
   "execution_count": 0,
   "metadata": {
    "colab": {},
    "colab_type": "code",
    "id": "7Cj0J9MOxBkq"
   },
   "outputs": [],
   "source": [
    "#OverSampling the data using SMOTETomek, since we have an imbalanced dataset\n",
    "smk = SMOTETomek(random_state=42)\n",
    "feat_X, targets_Y = smk.fit_resample(feat_X, targets)"
   ]
  },
  {
   "cell_type": "code",
   "execution_count": 12,
   "metadata": {
    "colab": {
     "base_uri": "https://localhost:8080/",
     "height": 73
    },
    "colab_type": "code",
    "id": "FNgEmfPEmO-7",
    "outputId": "423c153e-152c-4b22-f5c2-d79820ff6586"
   },
   "outputs": [
    {
     "name": "stdout",
     "output_type": "stream",
     "text": [
      "Initial Shape: (15375, 6000) \n",
      "Dimensions: 2\n",
      "Final shape: (15375, 3000, 2)\n"
     ]
    }
   ],
   "source": [
    "#Shape and dimensions of the dataset after the transformation\n",
    "print(f\"Initial Shape: {feat_X.shape} \\nDimensions: {feat_X.ndim}\")\n",
    "\n",
    "#Reshaping it to get to the desired shape of samples, timesteps, features\n",
    "feat_x = feat_X.reshape(feat_X.shape[0], feat.shape[2], feat.shape[1])\n",
    "print('Final shape:',feat_x.shape)"
   ]
  },
  {
   "cell_type": "code",
   "execution_count": 0,
   "metadata": {
    "colab": {},
    "colab_type": "code",
    "id": "uruuw83Lzhwz"
   },
   "outputs": [],
   "source": [
    "#Setting the X and y and subsequently splitting the data\n",
    "X = feat_x\n",
    "y = targets_Y\n",
    "\n",
    "#test size of 10% with random_state of 62, stratifying and shuffling the data\n",
    "X_train, X_test, y_train, y_test = train_test_split(X, y, test_size=0.10, shuffle=True,\n",
    "                                                    stratify=y, random_state=62)"
   ]
  },
  {
   "cell_type": "code",
   "execution_count": 14,
   "metadata": {
    "colab": {
     "base_uri": "https://localhost:8080/",
     "height": 54
    },
    "colab_type": "code",
    "id": "ywk87pzWg1fe",
    "outputId": "6a1ade6f-cb57-418d-ed10-dba5ba62fd27"
   },
   "outputs": [
    {
     "name": "stdout",
     "output_type": "stream",
     "text": [
      "[0 1 2 3 4 5] \n",
      "Number of labels: 6\n"
     ]
    }
   ],
   "source": [
    "#Encoding the labels\n",
    "lbl = LabelEncoder()\n",
    "y_train = lbl.fit_transform(y_train)\n",
    "y_test = lbl.transform(y_test)\n",
    "\n",
    "#We have 6 labels\n",
    "print(np.unique(y_test), f'\\nNumber of labels: {len(np.unique(y_test))}')"
   ]
  },
  {
   "cell_type": "code",
   "execution_count": 15,
   "metadata": {
    "colab": {
     "base_uri": "https://localhost:8080/",
     "height": 54
    },
    "colab_type": "code",
    "id": "SkVkGjKGjk80",
    "outputId": "f400156b-53dd-46e0-d9d3-e1fabca340fb"
   },
   "outputs": [
    {
     "name": "stdout",
     "output_type": "stream",
     "text": [
      "X_train shape: (13837, 3000, 2) \n",
      "X_test shape: (1538, 3000, 2)\n"
     ]
    }
   ],
   "source": [
    "#Original shape of our train and test set\n",
    "print(\"X_train shape:\",X_train.shape, \"\\nX_test shape:\",X_test.shape)"
   ]
  },
  {
   "cell_type": "code",
   "execution_count": 0,
   "metadata": {
    "colab": {},
    "colab_type": "code",
    "id": "LHzNafAuHHB2"
   },
   "outputs": [],
   "source": [
    "#encoding the test_data to 0s and 1s\n",
    "labels = 6\n",
    "\n",
    "y_test_cat = to_categorical(y_test, labels)\n",
    "y_train_cat = to_categorical(y_train, labels)"
   ]
  },
  {
   "cell_type": "code",
   "execution_count": 17,
   "metadata": {
    "colab": {
     "base_uri": "https://localhost:8080/",
     "height": 54
    },
    "colab_type": "code",
    "id": "5MMQDKmpgsEj",
    "outputId": "8d380084-ad11-44f8-fc27-fba7ce1ecdc8"
   },
   "outputs": [
    {
     "name": "stdout",
     "output_type": "stream",
     "text": [
      "y_train_cat shape: (13837, 6)\n",
      "y_test_cat shape: (1538, 6)\n"
     ]
    }
   ],
   "source": [
    "#New shape\n",
    "print(\"y_train_cat shape:\",y_train_cat.shape)\n",
    "print(\"y_test_cat shape:\",y_test_cat.shape)"
   ]
  },
  {
   "cell_type": "code",
   "execution_count": 0,
   "metadata": {
    "colab": {},
    "colab_type": "code",
    "id": "XEzIybKM8t1v"
   },
   "outputs": [],
   "source": [
    "#defining checkpoint and the early stopping to prevent overfitting\n",
    "checkpoint = ModelCheckpoint(filepath='bestmodel.hdf5', monitor='val_loss', \n",
    "                             save_weights_only=True,  mode='min', save_best_only=True, verbose=1)\n",
    "Early_Stopping = EarlyStopping(monitor='val_loss', patience=15, mode='min', restore_best_weights=True)"
   ]
  },
  {
   "cell_type": "code",
   "execution_count": 0,
   "metadata": {
    "colab": {},
    "colab_type": "code",
    "id": "jQSB_614G9pW"
   },
   "outputs": [],
   "source": [
    "#Defining callbacks and our validation set\n",
    "callbacks = [Early_Stopping, checkpoint]\n",
    "validation = [X_test, y_test_cat]"
   ]
  },
  {
   "cell_type": "code",
   "execution_count": 20,
   "metadata": {
    "colab": {
     "base_uri": "https://localhost:8080/",
     "height": 36
    },
    "colab_type": "code",
    "id": "tllWmg86dxIm",
    "outputId": "4859c384-7843-478e-c55b-3658ff015845"
   },
   "outputs": [
    {
     "name": "stdout",
     "output_type": "stream",
     "text": [
      "(3000, 2)\n"
     ]
    }
   ],
   "source": [
    "#input shape to feed to our CNN\n",
    "final_shape = X_train[0].shape\n",
    "print(final_shape)"
   ]
  },
  {
   "cell_type": "code",
   "execution_count": 0,
   "metadata": {
    "colab": {},
    "colab_type": "code",
    "id": "F0jyaikuRiTu"
   },
   "outputs": [],
   "source": [
    "#Conv1D Model\n",
    "model = Sequential()\n",
    "model.add(Conv1D(filters=128, kernel_size=(60), strides=2, padding='same',\n",
    "                 activation='relu', input_shape=(final_shape)))\n",
    "model.add(MaxPooling1D(12))\n",
    "model.add(BatchNormalization())\n",
    "model.add(SpatialDropout1D(rate=0.2))\n",
    "\n",
    "model.add(Conv1D(filters=108, kernel_size=(60), strides=2, activation='relu', padding='same'))\n",
    "model.add(MaxPooling1D(9))\n",
    "model.add(BatchNormalization())\n",
    "model.add(SpatialDropout1D(rate=0.2))\n",
    "\n",
    "model.add(Conv1D(filters=86, kernel_size=(60), strides=2, padding='same', activation='relu'))\n",
    "model.add(MaxPooling1D(4))\n",
    "model.add(BatchNormalization())\n",
    "model.add(SpatialDropout1D(rate=0.2))\n",
    "model.add(Flatten())\n",
    "\n",
    "model.add(Dense(68, activation='relu'))\n",
    "model.add(BatchNormalization())\n",
    "model.add(Dropout(0.3))\n",
    "\n",
    "model.add(Dense(6, activation='softmax'))\n",
    "\n",
    "opt='adagrad'\n",
    "#Compiling the model\n",
    "model.compile(optimizer=opt, loss='categorical_crossentropy', metrics=['accuracy'])\n",
    "\n",
    "history = model.fit(X_train, y_train_cat, epochs=100, batch_size=1054, verbose=1, \n",
    "                        validation_data=validation, callbacks=callbacks)"
   ]
  },
  {
   "cell_type": "code",
   "execution_count": 0,
   "metadata": {
    "colab": {},
    "colab_type": "code",
    "id": "zbCXNk51VKbp"
   },
   "outputs": [],
   "source": [
    "#plotting the model diagram\n",
    "tf.keras.utils.plot_model(\n",
    "    model, to_file='model.png', show_shapes=False, show_layer_names=True,\n",
    "    rankdir='TB', expand_nested=False, dpi=96\n",
    ")"
   ]
  },
  {
   "cell_type": "code",
   "execution_count": 0,
   "metadata": {
    "colab": {},
    "colab_type": "code",
    "id": "sECuRru6zYWJ"
   },
   "outputs": [],
   "source": [
    "#Load the best weights\n",
    "model.load_weights('bestmodel.hdf5')"
   ]
  },
  {
   "cell_type": "code",
   "execution_count": null,
   "metadata": {
    "colab": {
     "base_uri": "https://localhost:8080/",
     "height": 54
    },
    "colab_type": "code",
    "id": "lrH_qwvWTgz3",
    "outputId": "f733982d-1c07-495c-c1ef-57645a2a3b7b"
   },
   "outputs": [],
   "source": [
    "#Conv1D -> calcuting validation accuracy and loss\n",
    "val_loss, val_acc = model.evaluate(X_test, y_test_cat, verbose=0)\n",
    "print('Validation loss:',val_loss, '\\nValidation accuracy:',val_acc)"
   ]
  },
  {
   "cell_type": "code",
   "execution_count": 0,
   "metadata": {
    "colab": {},
    "colab_type": "code",
    "id": "WhnDwmSngqaE"
   },
   "outputs": [],
   "source": [
    "#overview of the model\n",
    "model.summary()"
   ]
  },
  {
   "cell_type": "code",
   "execution_count": 0,
   "metadata": {
    "colab": {},
    "colab_type": "code",
    "id": "0xfjjCBpg0kn"
   },
   "outputs": [],
   "source": [
    "y_pred = model.predict_classes(X_test, labels)\n",
    "y_pred = to_categorical(y_pred, labels)"
   ]
  },
  {
   "cell_type": "code",
   "execution_count": 0,
   "metadata": {
    "colab": {},
    "colab_type": "code",
    "id": "DRDW-eM0i2Ww"
   },
   "outputs": [],
   "source": [
    "#Classification report\n",
    "print(classification_report(y_test_cat, y_pred))"
   ]
  },
  {
   "cell_type": "code",
   "execution_count": 0,
   "metadata": {
    "colab": {},
    "colab_type": "code",
    "id": "kQrlJzs0g3TD"
   },
   "outputs": [],
   "source": [
    "#As above, showing the results of precision, recall and f1-score\n",
    "print(\"Precision:\", round(precision_score(y_test_cat, y_pred, average = 'macro') * 100, 2))\n",
    "print(\"Recall:   \", round(recall_score(y_test_cat, y_pred, average = 'macro') * 100, 2))\n",
    "print(\"f1-score: \", round(f1_score(y_test_cat, y_pred, average = 'macro') * 100, 2))"
   ]
  },
  {
   "cell_type": "code",
   "execution_count": 0,
   "metadata": {
    "colab": {
     "base_uri": "https://localhost:8080/",
     "height": 36
    },
    "colab_type": "code",
    "id": "ZZAtGZXwDeQV",
    "outputId": "a028a1c8-e415-48f6-a092-0e8c72b12588"
   },
   "outputs": [
    {
     "data": {
      "text/plain": [
       "dict_keys(['loss', 'acc', 'val_loss', 'val_acc'])"
      ]
     },
     "execution_count": 96,
     "metadata": {
      "tags": []
     },
     "output_type": "execute_result"
    }
   ],
   "source": [
    "#checking the keys of the dictionary\n",
    "history.history.keys()"
   ]
  },
  {
   "cell_type": "code",
   "execution_count": 0,
   "metadata": {
    "colab": {},
    "colab_type": "code",
    "id": "hUTQo4q4Dgv3"
   },
   "outputs": [],
   "source": [
    "#setting the names before plotting\n",
    "accuracy = history.history['acc']\n",
    "val_acc = history.history['val_acc']\n",
    "loss = history.history['loss']\n",
    "val_loss = history.history['val_loss']"
   ]
  },
  {
   "cell_type": "code",
   "execution_count": null,
   "metadata": {
    "colab": {
     "base_uri": "https://localhost:8080/",
     "height": 295
    },
    "colab_type": "code",
    "id": "3OHPtqz9mJ-t",
    "outputId": "442cffde-a44b-463e-e512-80c1d52e05f9"
   },
   "outputs": [],
   "source": [
    "#Plotting train vs validation accuracy\n",
    "plt.plot(accuracy,'r')\n",
    "plt.plot(val_acc, 'b')\n",
    "plt.title('Model Accuracy')\n",
    "plt.ylabel('Accuracy')\n",
    "plt.xlabel('Epochs')\n",
    "plt.legend(['Training accuracy', 'Validation Accuracy'], loc='upper left')\n",
    "plt.show()"
   ]
  },
  {
   "cell_type": "code",
   "execution_count": null,
   "metadata": {
    "colab": {
     "base_uri": "https://localhost:8080/",
     "height": 295
    },
    "colab_type": "code",
    "id": "kOx6r3P_mL-s",
    "outputId": "08ca4e26-8988-4168-a4f7-76185770f8be"
   },
   "outputs": [],
   "source": [
    "#Plotting train vs validation loss\n",
    "plt.plot(loss, 'r')\n",
    "plt.plot(val_loss, 'b')\n",
    "plt.title('Model Loss')\n",
    "plt.ylabel('Loss')\n",
    "plt.xlabel('Epochs')\n",
    "plt.legend(['Training Loss', 'Validation Loss'], loc='upper right')\n",
    "plt.show()"
   ]
  },
  {
   "cell_type": "code",
   "execution_count": 0,
   "metadata": {
    "colab": {},
    "colab_type": "code",
    "id": "KlD2JNrMDPS0"
   },
   "outputs": [],
   "source": [
    "#Loading the test set\n",
    "test = np.load('/content/drive/My Drive/data/Test_Raw_signals_no_labels.pkl', allow_pickle=True)"
   ]
  },
  {
   "cell_type": "code",
   "execution_count": 0,
   "metadata": {
    "colab": {
     "base_uri": "https://localhost:8080/",
     "height": 36
    },
    "colab_type": "code",
    "id": "HfsAKG49z7Ga",
    "outputId": "f4333ccc-eb28-4b44-b7c0-f25cb223fd45"
   },
   "outputs": [
    {
     "data": {
      "text/plain": [
       "(1754, 2, 3000)"
      ]
     },
     "execution_count": 101,
     "metadata": {
      "tags": []
     },
     "output_type": "execute_result"
    }
   ],
   "source": [
    "test_data = test[0]\n",
    "test_data.shape"
   ]
  },
  {
   "cell_type": "code",
   "execution_count": 0,
   "metadata": {
    "colab": {},
    "colab_type": "code",
    "id": "pLmGlcKQ0MM4"
   },
   "outputs": [],
   "source": [
    "#Saving the shape of the test set to be later used when reshaping it\n",
    "X_t_shape = test_data.shape"
   ]
  },
  {
   "cell_type": "code",
   "execution_count": 0,
   "metadata": {
    "colab": {
     "base_uri": "https://localhost:8080/",
     "height": 36
    },
    "colab_type": "code",
    "id": "H2jjCvteHuvT",
    "outputId": "564b360e-4f97-44e5-8c57-efab348ddb96"
   },
   "outputs": [
    {
     "data": {
      "text/plain": [
       "(1754, 2, 3000)"
      ]
     },
     "execution_count": 103,
     "metadata": {
      "tags": []
     },
     "output_type": "execute_result"
    }
   ],
   "source": [
    "X_t_shape"
   ]
  },
  {
   "cell_type": "code",
   "execution_count": 0,
   "metadata": {
    "colab": {},
    "colab_type": "code",
    "id": "2fod8ka7hXKe"
   },
   "outputs": [],
   "source": [
    "#Reshaping the test data\n",
    "test_data_tf = test_data.reshape(X_t_shape[0], X_t_shape[2], X_t_shape[1])"
   ]
  },
  {
   "cell_type": "code",
   "execution_count": 0,
   "metadata": {
    "colab": {},
    "colab_type": "code",
    "id": "pCCT2-3L1p_3"
   },
   "outputs": [],
   "source": [
    "y_t = model.predict_classes(test_data_tf)"
   ]
  },
  {
   "cell_type": "code",
   "execution_count": 0,
   "metadata": {
    "colab": {},
    "colab_type": "code",
    "id": "8hj3M34z1-B4"
   },
   "outputs": [],
   "source": [
    "y_test_decoded = lbl.inverse_transform(y_t)"
   ]
  },
  {
   "cell_type": "code",
   "execution_count": 0,
   "metadata": {
    "colab": {},
    "colab_type": "code",
    "id": "3LU9c2Ir2_TW"
   },
   "outputs": [],
   "source": [
    "#Save the text with the predicted labels\n",
    "np.savetxt('answer.txt', y_test_decoded, delimiter=',', fmt='%d')"
   ]
  }
 ],
 "metadata": {
  "accelerator": "GPU",
  "colab": {
   "collapsed_sections": [],
   "machine_shape": "hm",
   "name": " 1 - Final_Code.ipynb",
   "provenance": []
  },
  "kernelspec": {
   "display_name": "Python 3",
   "language": "python",
   "name": "python3"
  },
  "language_info": {
   "codemirror_mode": {
    "name": "ipython",
    "version": 3
   },
   "file_extension": ".py",
   "mimetype": "text/x-python",
   "name": "python",
   "nbconvert_exporter": "python",
   "pygments_lexer": "ipython3",
   "version": "3.7.4"
  }
 },
 "nbformat": 4,
 "nbformat_minor": 1
}
